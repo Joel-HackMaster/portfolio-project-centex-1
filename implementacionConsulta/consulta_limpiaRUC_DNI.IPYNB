{
 "cells": [
  {
   "cell_type": "code",
   "execution_count": 2,
   "id": "16e5315c",
   "metadata": {},
   "outputs": [],
   "source": [
    "from pyspark.sql import SparkSession\n",
    "from dotenv import load_dotenv\n",
    "import os\n",
    "load_dotenv()\n",
    "\n",
    "spark = SparkSession.builder \\\n",
    "    .appName(\"SessionCentexETL\") \\\n",
    "    .master(\"local[4]\") \\\n",
    "    .config(\"spark.sql.shuffle.partitions\", 4) \\\n",
    "    .config(\"spark.driver.memory\", \"4g\") \\\n",
    "    .config(\"spark.jars\", \"C:\\\\jars\\\\mssql-jdbc-12.10.0.jre11.jar\") \\\n",
    "    .getOrCreate()\n",
    "\n",
    "jdbc_url = f\"jdbc:sqlserver://{os.getenv('DB_HOST')}:{os.getenv('DB_PORT')};databaseName={os.getenv('DB_NAME')};encrypt=true;trustServerCertificate=true\"\n",
    "properties = {\n",
    "    \"user\": os.getenv('DB_USER'),\n",
    "    \"password\": os.getenv('DB_PASSWORD'),\n",
    "    \"driver\": \"com.microsoft.sqlserver.jdbc.SQLServerDriver\"\n",
    "}"
   ]
  },
  {
   "cell_type": "code",
   "execution_count": 15,
   "id": "d75b15f9",
   "metadata": {},
   "outputs": [
    {
     "name": "stdout",
     "output_type": "stream",
     "text": [
      "+-------------------------------+-----+\n",
      "|AgendaNombre                   |count|\n",
      "+-------------------------------+-----+\n",
      "|CHAMBILLA PEREZ, YHONATAN      |2    |\n",
      "|AZERRAD TENSERA, WILLIAM MOISES|2    |\n",
      "|ARIMUYA MORALES, JULIO         |2    |\n",
      "|HUAMANI CALSIN, JESSELA        |2    |\n",
      "+-------------------------------+-----+\n",
      "\n",
      "Total registros: 422\n",
      "Registros válidos: 418\n",
      "Registros no válidos: 4\n"
     ]
    }
   ],
   "source": [
    "from pyspark.sql import functions as F\n",
    "\n",
    "query_cl = \"(select ag.AgendaNombre, dc.ID_Agenda from Doc_Compra dc inner join Agenda ag on ag.ID_Agenda = dc.ID_Agenda where len(dc.ID_Agenda) = 11 or len(dc.ID_Agenda) = 8 group by ag.AgendaNombre, dc.ID_Agenda) AS query_clean\"\n",
    "df_agenda_prueba = spark.read.jdbc(url=jdbc_url, table=query_cl, properties=properties)\n",
    "df_validos = df_agenda_prueba.filter(\n",
    "    (F.length(\"ID_Agenda\").isin([8, 11])) &\n",
    "    (F.col(\"ID_Agenda\").rlike(\"^[0-9]+$\"))\n",
    ")\n",
    "\n",
    "df_no_validos = df_agenda_prueba.filter(\n",
    "    ~((F.length(\"ID_Agenda\").isin([8, 11])) & \n",
    "      (F.col(\"ID_Agenda\").rlike(\"^[0-9]+$\")))\n",
    ")\n",
    "\n",
    "df_duplicados = df_validos.groupBy(\"AgendaNombre\").count().filter(F.col(\"count\") > 1)\n",
    "\n",
    "df_duplicados.show(truncate=False)\n",
    "\n",
    "print(\"Total registros:\", df_agenda_prueba.count())\n",
    "print(\"Registros válidos:\", df_validos.count())\n",
    "print(\"Registros no válidos:\", df_no_validos.count())\n",
    "\n",
    "#df_validos.show(truncate=False)\n"
   ]
  },
  {
   "cell_type": "code",
   "execution_count": 13,
   "id": "21d4dcf6",
   "metadata": {},
   "outputs": [],
   "source": [
    "import pandas as pd\n",
    "df_pd_val = pd.DataFrame(df_validos.toPandas())\n",
    "df_pd_noval = pd.DataFrame(df_no_validos.toPandas())\n",
    "df_pd_val.to_csv(\"DevueltosCSV/validos.csv\", index=False, encoding='utf-8-sig', header=None) \n",
    "df_pd_noval.to_csv(\"DevueltosCSV/novalidos.csv\", index=False, encoding='utf-8-sig', header=None)"
   ]
  },
  {
   "cell_type": "code",
   "execution_count": 8,
   "id": "0494b777",
   "metadata": {},
   "outputs": [
    {
     "name": "stdout",
     "output_type": "stream",
     "text": [
      "+-------------------------------+-----------+\n",
      "|AgendaNombre                   |ID_Agenda  |\n",
      "+-------------------------------+-----------+\n",
      "|BRUKER NANO GMBH               |DE200443246|\n",
      "|BRUKER AXS SE                  |DE812037551|\n",
      "|PEAK SCIENTIFIC INSTRUMENTS LTD|GB699501784|\n",
      "|BRUKER DALTONIK GMBH           |DE114404287|\n",
      "+-------------------------------+-----------+\n",
      "\n"
     ]
    }
   ],
   "source": [
    "df_no_validos.show(truncate=False)"
   ]
  }
 ],
 "metadata": {
  "kernelspec": {
   "display_name": "env",
   "language": "python",
   "name": "python3"
  },
  "language_info": {
   "codemirror_mode": {
    "name": "ipython",
    "version": 3
   },
   "file_extension": ".py",
   "mimetype": "text/x-python",
   "name": "python",
   "nbconvert_exporter": "python",
   "pygments_lexer": "ipython3",
   "version": "3.13.3"
  }
 },
 "nbformat": 4,
 "nbformat_minor": 5
}
