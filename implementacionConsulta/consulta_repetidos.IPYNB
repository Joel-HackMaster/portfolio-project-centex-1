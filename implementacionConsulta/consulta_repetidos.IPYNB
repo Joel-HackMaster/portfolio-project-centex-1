{
 "cells": [
  {
   "cell_type": "code",
   "execution_count": 2,
   "id": "d2022b37",
   "metadata": {},
   "outputs": [],
   "source": [
    "from pyspark.sql import SparkSession\n",
    "\n",
    "spark = SparkSession.builder \\\n",
    "    .appName(\"SessionCentexETL\") \\\n",
    "    .master(\"local[4]\") \\\n",
    "    .config(\"spark.sql.shuffle.partitions\", 4) \\\n",
    "    .config(\"spark.driver.memory\", \"4g\") \\\n",
    "    .config(\"spark.jars\", \"C:\\\\jars\\\\mssql-jdbc-12.10.0.jre11.jar\") \\\n",
    "    .getOrCreate()"
   ]
  },
  {
   "cell_type": "code",
   "execution_count": 1,
   "id": "15be4e1b",
   "metadata": {},
   "outputs": [],
   "source": [
    "from dotenv import load_dotenv\n",
    "import os\n",
    "load_dotenv()\n",
    "\n",
    "jdbc_url = f\"jdbc:sqlserver://{os.getenv('DB_HOST')}:{os.getenv('DB_PORT')};databaseName={os.getenv('DB_NAME')};encrypt=true;trustServerCertificate=true\"\n",
    "properties = {\n",
    "    \"user\": os.getenv('DB_USER'),\n",
    "    \"password\": os.getenv('DB_PASSWORD'),\n",
    "    \"driver\": \"com.microsoft.sqlserver.jdbc.SQLServerDriver\"\n",
    "}"
   ]
  },
  {
   "cell_type": "code",
   "execution_count": 8,
   "id": "d5b40dfb",
   "metadata": {},
   "outputs": [
    {
     "name": "stdout",
     "output_type": "stream",
     "text": [
      "+-------------------------------+-----------+\n",
      "|AgendaNombre                   |ID_Agenda  |\n",
      "+-------------------------------+-----------+\n",
      "|CHAMBILLA PEREZ, YHONATAN      |10744012410|\n",
      "|CHAMBILLA PEREZ, YHONATAN      |74401241   |\n",
      "|AZERRAD TENSERA, WILLIAM MOISES|10004191604|\n",
      "|AZERRAD TENSERA, WILLIAM MOISES|00419160   |\n",
      "|ARIMUYA MORALES, JULIO         |10053435861|\n",
      "|ARIMUYA MORALES, JULIO         |05343586   |\n",
      "|HUAMANI CALSIN, JESSELA        |40438092   |\n",
      "|HUAMANI CALSIN, JESSELA        |10404380929|\n",
      "+-------------------------------+-----------+\n",
      "\n"
     ]
    }
   ],
   "source": [
    "from pyspark.sql import functions as F\n",
    "\n",
    "query_pa = \"(select dc.ID_Agenda, ag.AgendaNombre from Doc_Compra dc inner join Agenda ag on ag.ID_Agenda = dc.ID_Agenda group by ag.AgendaNombre, dc.ID_Agenda) AS query_data\"\n",
    "df_nomb_emp = spark.read.jdbc(url=jdbc_url, table=query_pa, properties=properties)\n",
    "repetidos = (df_nomb_emp.groupBy(\"AgendaNombre\").count().filter(F.col(\"count\") > 1).select(\"AgendaNombre\"))\n",
    "\n",
    "df_repetidos = df_nomb_emp.join(repetidos, on=\"AgendaNombre\", how=\"inner\")\n",
    "\n",
    "df_repetidos.show(truncate=False)"
   ]
  },
  {
   "cell_type": "code",
   "execution_count": null,
   "id": "29b52403",
   "metadata": {},
   "outputs": [],
   "source": [
    "import pandas as pd\n",
    "df_pd = pd.DataFrame(resultados_limpios)"
   ]
  }
 ],
 "metadata": {
  "kernelspec": {
   "display_name": "env",
   "language": "python",
   "name": "python3"
  },
  "language_info": {
   "codemirror_mode": {
    "name": "ipython",
    "version": 3
   },
   "file_extension": ".py",
   "mimetype": "text/x-python",
   "name": "python",
   "nbconvert_exporter": "python",
   "pygments_lexer": "ipython3",
   "version": "3.13.3"
  }
 },
 "nbformat": 4,
 "nbformat_minor": 5
}
